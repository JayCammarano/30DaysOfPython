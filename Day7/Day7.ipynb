{
 "cells": [
  {
   "source": [
    "def my_print(txt):\n",
    "    print(txt)"
   ],
   "cell_type": "code",
   "metadata": {},
   "execution_count": 1,
   "outputs": []
  },
  {
   "source": [
    "my_print(\"Hello world\")"
   ],
   "cell_type": "code",
   "metadata": {},
   "execution_count": 2,
   "outputs": [
    {
     "output_type": "stream",
     "name": "stdout",
     "text": [
      "Hello world\n"
     ]
    }
   ]
  },
  {
   "cell_type": "code",
   "execution_count": 14,
   "metadata": {},
   "outputs": [],
   "source": [
    "msg_template = \"\"\"Hello {name},\n",
    "Thank you for joining {website}. \n",
    "We are very happy to have you with us.\n",
    "\"\"\"\n",
    "\n",
    "def format_msg(my_name=\"Justin\", my_website=\"cfe.sh\"):\n",
    "    my_msg = msg_template.format(name=my_name, website=my_website)\n",
    "    # print(my_msg)\n",
    "    return my_msg\n"
   ]
  },
  {
   "cell_type": "code",
   "execution_count": 15,
   "metadata": {},
   "outputs": [
    {
     "output_type": "stream",
     "name": "stdout",
     "text": [
      "Hello Justin,\nThank you for joining cfe.sh. \nWe are very happy to have you with us.\n\n"
     ]
    }
   ],
   "source": [
    "my_msg = format_msg()\n",
    "print(my_msg)"
   ]
  },
  {
   "cell_type": "code",
   "execution_count": 16,
   "metadata": {},
   "outputs": [
    {
     "output_type": "execute_result",
     "data": {
      "text/plain": [
       "'Hello Justin,\\nThank you for joining cfe.sh. \\nWe are very happy to have you with us.\\n'"
      ]
     },
     "metadata": {},
     "execution_count": 16
    }
   ],
   "source": [
    "format_msg()"
   ]
  },
  {
   "cell_type": "code",
   "execution_count": 13,
   "metadata": {},
   "outputs": [
    {
     "output_type": "stream",
     "name": "stdout",
     "text": [
      "Hello Justin,\nThank you for joining cfe.sh. \nWe are very happy to have you with us.\n\nHello J,\nThank you for joining cfe.sh. \nWe are very happy to have you with us.\n\nHello A,\nThank you for joining cfe.sh. \nWe are very happy to have you with us.\n\nHello Y,\nThank you for joining cfe.sh. \nWe are very happy to have you with us.\n\n"
     ]
    }
   ],
   "source": [
    "names = [\"Justin\", \"J\",\"A\",\"Y\"]\n",
    "for name in names:\n",
    "    this_person_msg = format_msg(my_name=name)\n",
    "    print(this_person_msg)"
   ]
  },
  {
   "cell_type": "code",
   "execution_count": 1,
   "metadata": {},
   "outputs": [],
   "source": [
    "def base_function(*args, **kwargs):\n",
    "    print(args, kwargs)"
   ]
  },
  {
   "cell_type": "code",
   "execution_count": 5,
   "metadata": {},
   "outputs": [
    {
     "output_type": "stream",
     "name": "stdout",
     "text": [
      "() {'my_name': 231}\n"
     ]
    }
   ],
   "source": [
    "#kwargs\n",
    "base_function(my_name=231)"
   ]
  },
  {
   "cell_type": "code",
   "execution_count": 4,
   "metadata": {},
   "outputs": [
    {
     "output_type": "stream",
     "name": "stdout",
     "text": [
      "(123, 12144) {}\n"
     ]
    }
   ],
   "source": [
    "# args\n",
    "base_function(123,12144)"
   ]
  }
 ],
 "metadata": {
  "kernelspec": {
   "display_name": "Python 3",
   "language": "python",
   "name": "python3"
  },
  "language_info": {
   "codemirror_mode": {
    "name": "ipython",
    "version": 3
   },
   "file_extension": ".py",
   "mimetype": "text/x-python",
   "name": "python",
   "nbconvert_exporter": "python",
   "pygments_lexer": "ipython3",
   "version": "3.8.2-final"
  }
 },
 "nbformat": 4,
 "nbformat_minor": 5
}