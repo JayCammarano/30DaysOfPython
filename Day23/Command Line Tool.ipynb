{
 "cells": [
  {
   "cell_type": "code",
   "execution_count": 5,
   "id": "universal-chapel",
   "metadata": {},
   "outputs": [],
   "source": [
    "while True:\n",
    "    name = input(\"what's your name\\n\")\n",
    "    if name != None and name != \"\":\n",
    "        break\n",
    "    else:\n",
    "        tried +=1\n",
    "    if tries > 10:\n",
    "        break\n",
    "    else:\n",
    "        continue"
   ]
  },
  {
   "cell_type": "code",
   "execution_count": 6,
   "id": "charitable-clarity",
   "metadata": {},
   "outputs": [
    {
     "output_type": "stream",
     "name": "stdout",
     "text": [
      "hello justin\n"
     ]
    }
   ],
   "source": [
    "print('hello', name)"
   ]
  },
  {
   "cell_type": "code",
   "execution_count": 7,
   "id": "backed-oracle",
   "metadata": {},
   "outputs": [],
   "source": [
    "from getpass import getpass\n",
    "pw = getpass(\"what's your password\")"
   ]
  },
  {
   "cell_type": "code",
   "execution_count": 8,
   "id": "victorian-configuration",
   "metadata": {},
   "outputs": [
    {
     "output_type": "stream",
     "name": "stdout",
     "text": [
      "Overwriting raw_input.py\n"
     ]
    }
   ],
   "source": [
    "%%writefile raw_input.py\n",
    "while True:\n",
    "    name = input(\"what's your name\\n\")\n",
    "    if name != None and name != \"\":\n",
    "        break\n",
    "    else:\n",
    "        tried +=1\n",
    "    if tries > 10:\n",
    "        break\n",
    "    else:\n",
    "        continue\n",
    "print('hello', name)\n",
    "from getpass import getpass\n",
    "pw = getpass(\"what's your password\")"
   ]
  },
  {
   "cell_type": "code",
   "execution_count": 9,
   "id": "directed-billion",
   "metadata": {},
   "outputs": [
    {
     "output_type": "stream",
     "name": "stdout",
     "text": [
      "Overwriting cli_sys.py\n"
     ]
    }
   ],
   "source": [
    "%%writefile cli_sys.py\n",
    "import sys\n",
    "if __name__ == \"__main__\":\n",
    "    try:\n",
    "        name = sys.argv[1]\n",
    "        print(name)\n",
    "    except:\n",
    "        name = input(\"what's your name\\n\")\n",
    "    print(name)"
   ]
  },
  {
   "cell_type": "code",
   "execution_count": 10,
   "id": "popular-fisher",
   "metadata": {},
   "outputs": [
    {
     "output_type": "stream",
     "name": "stdout",
     "text": [
      "Overwriting cli_argsparse.py\n"
     ]
    }
   ],
   "source": [
    "%%writefile cli_argsparse.py\n",
    "import argparse\n",
    "def my_const_fun(*args, **kwargs):\n",
    "    print('const', args, kwargs)\n",
    "    \n",
    "def my_default_fun(*args, **kwargs):\n",
    "    print('default', args, kwargs)\n",
    "\n",
    "if __name__ == \"__main__\":\n",
    "    parser = argparse.ArgumentParser()\n",
    "    parser.add_argument(\"integers\", type=int, nargs=\"+\")\n",
    "    #parser.add_argument(\"--sum\", dest=\"accumulate\", action=\"store_const\", const=sum, default=max)\n",
    "    parser.add_argument(\"--sum\", dest='math_is_fun', action=\"store_const\", const=my_const_fun, default=my_default_fun)\n",
    "    args = parser.parse_args()\n",
    "    print(args.math_is_fun(args.integers))"
   ]
  },
  {
   "cell_type": "code",
   "execution_count": 11,
   "id": "suspected-flesh",
   "metadata": {},
   "outputs": [
    {
     "output_type": "stream",
     "name": "stdout",
     "text": [
      "Requirement already satisfied: fire in /Users/spaghettios/.local/share/virtualenvs/Day23-8vpJyqz2/lib/python3.8/site-packages (0.4.0)\n",
      "Requirement already satisfied: termcolor in /Users/spaghettios/.local/share/virtualenvs/Day23-8vpJyqz2/lib/python3.8/site-packages (from fire) (1.1.0)\n",
      "Requirement already satisfied: six in /Users/spaghettios/.local/share/virtualenvs/Day23-8vpJyqz2/lib/python3.8/site-packages (from fire) (1.15.0)\n",
      "\u001b[33mWARNING: You are using pip version 20.3.4; however, version 21.0.1 is available.\n",
      "You should consider upgrading via the '/Users/spaghettios/.local/share/virtualenvs/Day23-8vpJyqz2/bin/python -m pip install --upgrade pip' command.\u001b[0m\n"
     ]
    }
   ],
   "source": [
    "!pip install fire"
   ]
  },
  {
   "cell_type": "code",
   "execution_count": 12,
   "id": "experienced-douglas",
   "metadata": {},
   "outputs": [
    {
     "output_type": "stream",
     "name": "stdout",
     "text": [
      "Overwriting cli_fire.py\n"
     ]
    }
   ],
   "source": [
    "%%writefile cli_fire.py\n",
    "import fire\n",
    "\n",
    "def hello(name='World'):\n",
    "    return f\"Hello {name}\"\n",
    "\n",
    "if __name__ == '__main__':\n",
    "    fire.Fire(hello)"
   ]
  },
  {
   "cell_type": "code",
   "execution_count": 13,
   "id": "impossible-affairs",
   "metadata": {},
   "outputs": [
    {
     "output_type": "stream",
     "name": "stdout",
     "text": [
      "Overwriting cli_fire_inputs.py\n"
     ]
    }
   ],
   "source": [
    "%%writefile cli_fire_inputs.py\n",
    "import fire\n",
    "from getpass import getpass\n",
    "\n",
    "def login(name=None):\n",
    "    name = input(\"Whats Your name?\\n\")\n",
    "    pw = getpass(\"What's Your Password?\\n\")\n",
    "    print(name, pw)\n",
    "\n",
    "if __name__ == '__main__':\n",
    "    fire.Fire(login)"
   ]
  },
  {
   "cell_type": "code",
   "execution_count": 14,
   "id": "yellow-visiting",
   "metadata": {},
   "outputs": [
    {
     "output_type": "stream",
     "name": "stdout",
     "text": [
      "Overwriting cli_fire_pipeline.py\n"
     ]
    }
   ],
   "source": [
    "%%writefile cli_fire_pipeline.py\n",
    "import fire\n",
    "from getpass import getpass\n",
    "\n",
    "\n",
    "class Auth(object):\n",
    "    def login(self, username = None):\n",
    "        if username == None:\n",
    "            username = input(\"Username: \")\n",
    "        if username == None:\n",
    "            print(\"A username is required\")\n",
    "            return\n",
    "        pw = getpass(\"Password: \")\n",
    "        return username, pw\n",
    "\n",
    "def login(username = None):\n",
    "    if username == None:\n",
    "        username = input(\"Username: \")\n",
    "    if username == None:\n",
    "        print(\"A username is required\")\n",
    "        return\n",
    "    pw = getpass(\"Password: \")\n",
    "    return username, pw\n",
    "    \n",
    "\n",
    "def scrape_tag(tag = \"python\", query_filter = \"Votes\", max_pages=50, pagesize=25):\n",
    "    base_url = 'https://stackoverflow.com/questions/tagged/'\n",
    "    datas = []\n",
    "    for p in range(max_pages):\n",
    "        page_num = p + 1\n",
    "        url = f\"{base_url}{tag}?tab={query_filter}&page={page_num}&pagesize={pagesize}\"\n",
    "        datas.append(url)\n",
    "    return datas\n",
    "\n",
    "class Pipeline(object):\n",
    "    def __init__(self):\n",
    "        self.scrape = scrape_tag\n",
    "        self.auth = Auth()\n",
    "        self.login = login\n",
    "\n",
    "if __name__ == '__main__':\n",
    "    fire.Fire(Pipeline)"
   ]
  },
  {
   "cell_type": "code",
   "execution_count": 15,
   "id": "collective-island",
   "metadata": {},
   "outputs": [],
   "source": [
    "import inspect\n",
    "from collections import OrderedDict"
   ]
  },
  {
   "cell_type": "code",
   "execution_count": 16,
   "id": "favorite-domestic",
   "metadata": {},
   "outputs": [],
   "source": [
    "def rando_fn(abc, df='123'):\n",
    "    print(abc, df)"
   ]
  },
  {
   "cell_type": "code",
   "execution_count": 17,
   "id": "cardiovascular-brush",
   "metadata": {},
   "outputs": [
    {
     "output_type": "stream",
     "name": "stdout",
     "text": [
      "odict_keys(['abc', 'df'])\n"
     ]
    }
   ],
   "source": [
    "sig = inspect.signature(rando_fn)\n",
    "print(sig.parameters.keys())"
   ]
  },
  {
   "cell_type": "code",
   "execution_count": 1,
   "id": "french-lindsay",
   "metadata": {},
   "outputs": [],
   "source": [
    "def get_signature(fn):\n",
    "    params = inspect.signature(fn).parameters\n",
    "    args = []\n",
    "    kwargs = OrderedDict()\n",
    "    for p in params.values():\n",
    "        if p.default is p.empty:\n",
    "            args.append(p.name)\n",
    "        else:\n",
    "            kwargs[p.name] = p.default\n",
    "    return {\"args\": args, \"kwargs\": kwargs}"
   ]
  },
  {
   "cell_type": "code",
   "execution_count": 18,
   "metadata": {},
   "outputs": [
    {
     "output_type": "execute_result",
     "data": {
      "text/plain": [
       "{'args': ['abc'], 'kwargs': OrderedDict([('df', '123')])}"
      ]
     },
     "metadata": {},
     "execution_count": 18
    }
   ],
   "source": [
    "get_signature(rando_fn)"
   ]
  }
 ],
 "metadata": {
  "kernelspec": {
   "display_name": "Python 3",
   "language": "python",
   "name": "python3"
  },
  "language_info": {
   "codemirror_mode": {
    "name": "ipython",
    "version": 3
   },
   "file_extension": ".py",
   "mimetype": "text/x-python",
   "name": "python",
   "nbconvert_exporter": "python",
   "pygments_lexer": "ipython3",
   "version": "3.8.2-final"
  }
 },
 "nbformat": 4,
 "nbformat_minor": 5
}